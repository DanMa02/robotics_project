{
 "cells": [
  {
   "cell_type": "code",
   "execution_count": 1,
   "metadata": {},
   "outputs": [],
   "source": [
    "# List of difficult img:\n",
    "# /home/toto/ros_ws/src/robotic_project/vision/dataset/test/HD/blocks_group2_1.jpg\n",
    "# /home/toto/ros_ws/src/robotic_project/vision/dataset/test/HD/blocks_group2_11.jpg\n",
    "# /home/toto/ros_ws/src/robotic_project/vision/dataset/test/HD/blocks_group2_36.jpg"
   ]
  },
  {
   "cell_type": "code",
   "execution_count": 2,
   "metadata": {},
   "outputs": [
    {
     "name": "stderr",
     "output_type": "stream",
     "text": [
      "Using cache found in /home/toto/.cache/torch/hub/ultralytics_yolov5_master\n",
      "YOLOv5 🚀 2023-1-12 Python-3.8.10 torch-1.13.1+cu117 CPU\n",
      "\n",
      "Fusing layers... \n",
      "YOLOv5m summary: 212 layers, 20893344 parameters, 0 gradients, 48.0 GFLOPs\n",
      "Adding AutoShape... \n"
     ]
    },
    {
     "name": "stdout",
     "output_type": "stream",
     "text": [
      "Draw RegionOfInterest\n"
     ]
    }
   ],
   "source": [
    "from LegoDetect import LegoDetect\n",
    "from PIL import Image, ImageDraw\n",
    "\n",
    "img_path = '/home/toto/ros_ws/src/robotic_project/vision/dataset/test/HD/blocks_group2_36.jpg'\n",
    "legoDetect = LegoDetect(img_path)\n",
    "\n",
    "center_list = []\n",
    "for index, lego in enumerate(legoDetect.lego_list, start=1):\n",
    "    print(index)\n",
    "    lego.show()\n",
    "    center_list.append(lego.center_point)\n",
    "\n",
    "# Draw center points\n",
    "img = Image.open(img_path)\n",
    "draw = ImageDraw.Draw(img)\n",
    "draw.point(center_list, 'red')\n",
    "display(img)"
   ]
  }
 ],
 "metadata": {
  "kernelspec": {
   "display_name": "Python 3",
   "language": "python",
   "name": "python3"
  },
  "language_info": {
   "codemirror_mode": {
    "name": "ipython",
    "version": 3
   },
   "file_extension": ".py",
   "mimetype": "text/x-python",
   "name": "python",
   "nbconvert_exporter": "python",
   "pygments_lexer": "ipython3",
   "version": "3.8.10"
  },
  "orig_nbformat": 4,
  "vscode": {
   "interpreter": {
    "hash": "916dbcbb3f70747c44a77c7bcd40155683ae19c65e1c03b4aa3499c5328201f1"
   }
  }
 },
 "nbformat": 4,
 "nbformat_minor": 2
}
